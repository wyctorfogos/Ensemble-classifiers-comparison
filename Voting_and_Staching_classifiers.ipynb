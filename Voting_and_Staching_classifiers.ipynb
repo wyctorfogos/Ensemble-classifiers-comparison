{
  "nbformat": 4,
  "nbformat_minor": 0,
  "metadata": {
    "colab": {
      "name": "Voting and Staching - classifiers.ipynb",
      "provenance": [],
      "collapsed_sections": [],
      "authorship_tag": "ABX9TyM0BNtiAoqmGu4+1er1JMmL",
      "include_colab_link": true
    },
    "kernelspec": {
      "name": "python3",
      "display_name": "Python 3"
    },
    "language_info": {
      "name": "python"
    }
  },
  "cells": [
    {
      "cell_type": "markdown",
      "metadata": {
        "id": "view-in-github",
        "colab_type": "text"
      },
      "source": [
        "<a href=\"https://colab.research.google.com/github/wyctorfogos/Ensemble-classifiers-comparison/blob/main/Voting_and_Staching_classifiers.ipynb\" target=\"_parent\"><img src=\"https://colab.research.google.com/assets/colab-badge.svg\" alt=\"Open In Colab\"/></a>"
      ]
    },
    {
      "cell_type": "code",
      "execution_count": 1,
      "metadata": {
        "id": "PQ3y0FgAcB0p"
      },
      "outputs": [],
      "source": [
        "# Import Library\n",
        "%matplotlib inline\n",
        "from sklearn.metrics import classification_report\n",
        "import numpy as np\n",
        "import pandas as pd\n",
        "import matplotlib.pyplot as plt\n",
        "import datetime\n",
        "import os\n",
        "import time\n",
        "from sklearn.metrics import roc_curve, auc\n",
        "import matplotlib.pyplot as plt\n",
        "from sklearn.metrics import confusion_matrix\n",
        "from sklearn import datasets\n",
        "from sklearn.model_selection import train_test_split\n",
        "from sklearn import metrics\n",
        "from matplotlib import style\n",
        "import time\n",
        "import cv2\n",
        "import collections\n",
        "import seaborn as sns\n",
        "import warnings\n",
        "warnings.filterwarnings(\"ignore\")"
      ]
    },
    {
      "cell_type": "code",
      "source": [
        "# Import Iris Dataset\n",
        "digits=datasets.load_digits()\n",
        "df = pd.DataFrame(digits.data, columns=digits.feature_names)\n",
        "df['target'] = digits.target\n",
        "\n",
        "# Import dataset and labels\n",
        "x_origin = digits.data\n",
        "y = digits.target   # 150 labels = 50 + 50 + 50"
      ],
      "metadata": {
        "id": "prkz21w3dUDg"
      },
      "execution_count": 2,
      "outputs": []
    },
    {
      "cell_type": "code",
      "source": [
        ""
      ],
      "metadata": {
        "id": "zmP_QRgvsvA4"
      },
      "execution_count": 2,
      "outputs": []
    },
    {
      "cell_type": "code",
      "source": [
        "plt.gray() \n",
        "plt.matshow(digits.images[0]) \n",
        "plt.show()"
      ],
      "metadata": {
        "id": "NYad5RjxdWGe",
        "outputId": "0bbdc8fe-87da-4390-f766-717ff67e3850",
        "colab": {
          "base_uri": "https://localhost:8080/",
          "height": 292
        }
      },
      "execution_count": 3,
      "outputs": [
        {
          "output_type": "display_data",
          "data": {
            "text/plain": [
              "<Figure size 432x288 with 0 Axes>"
            ]
          },
          "metadata": {}
        },
        {
          "output_type": "display_data",
          "data": {
            "text/plain": [
              "<Figure size 288x288 with 1 Axes>"
            ],
            "image/png": "[encoded data removed]"
          },
          "metadata": {
            "needs_background": "light"
          }
        }
      ]
    },
    {
      "cell_type": "code",
      "source": [
        "x=x_origin/255."
      ],
      "metadata": {
        "id": "GZ9vBrjvtKoo"
      },
      "execution_count": 4,
      "outputs": []
    },
    {
      "cell_type": "code",
      "source": [
        "from sklearn.model_selection import train_test_split\n",
        "\n",
        "X_train, X_test, Y_train, Y_test = train_test_split(x, y, test_size=0.33, shuffle=True)"
      ],
      "metadata": {
        "id": "X18S3Du-s8sa"
      },
      "execution_count": 5,
      "outputs": []
    },
    {
      "cell_type": "code",
      "source": [
        "X_train"
      ],
      "metadata": {
        "colab": {
          "base_uri": "https://localhost:8080/"
        },
        "id": "F7DLbGKTtPDM",
        "outputId": "7503ed93-e0c9-4489-83c2-4c21a57302cf"
      },
      "execution_count": 6,
      "outputs": [
        {
          "output_type": "execute_result",
          "data": {
            "text/plain": [
              "array([[0.        , 0.00784314, 0.05882353, ..., 0.        , 0.        ,\n",
              "        0.        ],\n",
              "       [0.        , 0.        , 0.02352941, ..., 0.01176471, 0.        ,\n",
              "        0.        ],\n",
              "       [0.        , 0.        , 0.        , ..., 0.05882353, 0.03137255,\n",
              "        0.        ],\n",
              "       ...,\n",
              "       [0.        , 0.00784314, 0.0627451 , ..., 0.01960784, 0.        ,\n",
              "        0.        ],\n",
              "       [0.        , 0.        , 0.03529412, ..., 0.        , 0.        ,\n",
              "        0.        ],\n",
              "       [0.        , 0.        , 0.        , ..., 0.01960784, 0.        ,\n",
              "        0.        ]])"
            ]
          },
          "metadata": {},
          "execution_count": 6
        }
      ]
    },
    {
      "cell_type": "markdown",
      "source": [
        "#Test classifiers"
      ],
      "metadata": {
        "id": "vVOf-a_Std9y"
      }
    },
    {
      "cell_type": "code",
      "source": [
        "#importing standard neural network libraries\n",
        "from sklearn.tree import DecisionTreeClassifier\n",
        "from sklearn.neighbors import KNeighborsClassifier\n",
        "from sklearn.ensemble import RandomForestClassifier\n",
        "from sklearn.ensemble import AdaBoostClassifier\n",
        "from sklearn.metrics import accuracy_score\n",
        "from xgboost import XGBClassifier\n",
        "from sklearn.multioutput import MultiOutputClassifier\n",
        "from sklearn.neural_network import MLPClassifier\n",
        "\n",
        "from sklearn.metrics import mean_squared_error\n",
        "\n",
        "\n",
        "def Tester_differentes_modeles(X_train, Y_train, x_val, y_val):\n",
        "  classifiers = [\n",
        "      RandomForestClassifier(max_depth=6, random_state=3,n_estimators=100),\n",
        "      KNeighborsClassifier(5),\n",
        "      #MultiOutputRegressor(AdaBoostRegressor(random_state=6, n_estimators=100)),\n",
        "      #MLPRegressor(hidden_layer_sizes=(50,50,50,50,50),solver='lbfgs',activation='tanh'),\n",
        "      XGBClassifier(max_depth=6, learning_rate=5e-3, n_estimators=100, silent=True, \n",
        "                  objective='reg:linear', gamma=0, min_child_weight=1, \n",
        "                  max_delta_step=0, subsample=1, colsample_bytree=1, \n",
        "                  seed=0, missing=None)]\n",
        "\n",
        "  names = []\n",
        "  scores = []\n",
        "  erreurs = []\n",
        "  \n",
        "  for cls in classifiers:\n",
        "      cls = cls.fit(X_train, Y_train)\n",
        "      y_pred = cls.predict(x_val)\n",
        "      \n",
        "      names.append(cls.__class__.__name__)\n",
        "      #scores.append(accuracy_score(ypred, y_val))\n",
        "      scores.append(cls.score(x_val,y_val))\n",
        "      erreurs.append(mean_squared_error(y_val, y_pred, squared=True))\n",
        "\n",
        "  #names.append('Neural Network')\n",
        "\n",
        "  #y_pred = model.predict(x_val)  #cross_val_predict(model, X_train, Y_train, cv = cv)\n",
        "  #print(y_pred, y_val)\n",
        "  #y_pred=(np.around(y_pred))\n",
        "\n",
        "  #y_Pred=[]\n",
        "  #for i in range(0,len(y_pred)):\n",
        "      #print(np.argmax(y_pred[i]))\n",
        "  #    y_Pred.append(np.argmax(y_pred[i]))\n",
        "  #print(y_Pred)\n",
        "  #scores.append(model.score(x_val, y_val))\n",
        "\n",
        "  score_df = pd.DataFrame({'Model': names,'Score': scores})\n",
        "  print(score_df)\n",
        "  \n",
        "  ax  = score_df.plot.bar()\n",
        "  ax.set_xticklabels(score_df['Model'], rotation=45, fontsize=10)"
      ],
      "metadata": {
        "id": "z555k31lujIy"
      },
      "execution_count": 7,
      "outputs": []
    },
    {
      "cell_type": "code",
      "source": [
        "import tensorflow as tf\n",
        "\n",
        "with tf.device('/device:GPU:0'):\n",
        "  #Tester_differentes_modeles(X_train, Y_train, X_test, Y_test)\n",
        "  Tester_differentes_modeles(X_train, Y_train, X_test, Y_test)"
      ],
      "metadata": {
        "colab": {
          "base_uri": "https://localhost:8080/",
          "height": 415
        },
        "id": "vEELSF4Rua9t",
        "outputId": "f9d1ac07-f9a5-4a8d-e07c-5b824ade4acd"
      },
      "execution_count": 8,
      "outputs": [
        {
          "output_type": "stream",
          "name": "stdout",
          "text": [
            "                    Model     Score\n",
            "0  RandomForestClassifier  0.957912\n",
            "1    KNeighborsClassifier  0.981481\n",
            "2           XGBClassifier  0.914141\n"
          ]
        },
        {
          "output_type": "display_data",
          "data": {
            "text/plain": [
              "<Figure size 432x288 with 1 Axes>"
            ],
            "image/png": "[encoded data removed]"
          },
          "metadata": {
            "needs_background": "light"
          }
        }
      ]
    },
    {
      "cell_type": "markdown",
      "source": [
        "Voting Classifier\n"
      ],
      "metadata": {
        "id": "RFKxm2n00_Mc"
      }
    },
    {
      "cell_type": "code",
      "source": [
        "from sklearn.ensemble import VotingClassifier\n",
        "from sklearn.neighbors import KNeighborsClassifier\n",
        "# define dataset\n",
        "# define the base models\n",
        "models = list()\n",
        "models.append(('RandomForest', RandomForestClassifier(max_depth=6, random_state=3,n_estimators=100)))\n",
        "models.append(('KNN5', KNeighborsClassifier(n_neighbors=5)))\n",
        "models.append(('XGBCls', XGBClassifier(max_depth=6, learning_rate=5e-3, n_estimators=100, silent=True, \n",
        "                  objective='reg:linear', gamma=0, min_child_weight=1, \n",
        "                  max_delta_step=0, subsample=1, colsample_bytree=1, \n",
        "                  seed=0, missing=None)))\n",
        "# define the hard voting ensemble\n",
        "#The performance using the 3 models #\n",
        "ensemble1 = VotingClassifier(estimators=models, voting='hard')\n",
        "ensemble1.fit(X_train, Y_train)\n",
        "ensemble1_score= ensemble1.score(X_test,Y_test)\n",
        "#The performance using 2 models: RandomForest and KNN5#\n",
        "models = list()\n",
        "models.append(('RandomForest', RandomForestClassifier(max_depth=6, random_state=3,n_estimators=100)))\n",
        "models.append(('KNN5', KNeighborsClassifier(n_neighbors=5)))\n",
        "\n",
        "ensemble2 = VotingClassifier(estimators=models, voting='hard')\n",
        "ensemble2.fit(X_train, Y_train)\n",
        "ensemble2_score= ensemble2.score(X_test,Y_test)\n",
        "\n",
        "#The performance using 2 models: RandomForest and XGBCls#\n",
        "models = list()\n",
        "models.append(('RandomForest', RandomForestClassifier(max_depth=6, random_state=3,n_estimators=100)))\n",
        "models.append(('XGBCls', XGBClassifier(max_depth=6, learning_rate=5e-3, n_estimators=100, silent=True, \n",
        "                  objective='reg:linear', gamma=0, min_child_weight=1, \n",
        "                  max_delta_step=0, subsample=1, colsample_bytree=1, \n",
        "                  seed=0, missing=None)))\n",
        "ensemble3 = VotingClassifier(estimators=models, voting='hard')\n",
        "ensemble3.fit(X_train, Y_train)\n",
        "ensemble3_score= ensemble3.score(X_test,Y_test)\n",
        "\n",
        "#The performance using 2 models: KNN5 and XGBCls #\n",
        "models = list()\n",
        "models.append(('KNN5', KNeighborsClassifier(n_neighbors=5)))\n",
        "models.append(('XGBCls', XGBClassifier(max_depth=6, learning_rate=5e-3, n_estimators=100, silent=True, \n",
        "                  objective='reg:linear', gamma=0, min_child_weight=1, \n",
        "                  max_delta_step=0, subsample=1, colsample_bytree=1, \n",
        "                  seed=0, missing=None)))\n",
        "\n",
        "ensemble4 = VotingClassifier(estimators=models, voting='hard')\n",
        "ensemble4.fit(X_train, Y_train)\n",
        "ensemble4_score= ensemble4.score(X_test,Y_test)\n"
      ],
      "metadata": {
        "id": "t01WR8TH1EJZ"
      },
      "execution_count": 9,
      "outputs": []
    },
    {
      "cell_type": "code",
      "source": [
        "from sklearn import ensemble\n",
        "\n",
        "names = []\n",
        "scores = []\n",
        "erreurs = []\n",
        "  \n",
        "classifiers_name=[\"RandomForest+KNN5+XGBCls\",\"RandomForest+KNN5\", \"RandomForest+XGBCls\",\"KNN5+XGBCls\"]\n",
        "classifiers_score=[ensemble1_score, ensemble2_score,ensemble3_score,ensemble4_score]\n",
        "\n",
        "for cls, cls_score in zip(classifiers_name,classifiers_score):\n",
        "  names.append(cls)\n",
        "  scores.append(cls_score)\n",
        "\n",
        "score_df = pd.DataFrame({'Model': names,'Score': scores})\n",
        "print(score_df)\n",
        "  \n",
        "ax  = score_df.plot.bar()\n",
        "ax.set_xticklabels(score_df['Model'], rotation=45, fontsize=15)"
      ],
      "metadata": {
        "colab": {
          "base_uri": "https://localhost:8080/",
          "height": 585
        },
        "id": "gBcAWc1s3Kjf",
        "outputId": "9bdb95b6-ac6c-4ef3-f8a4-2f8ff74217e9"
      },
      "execution_count": 10,
      "outputs": [
        {
          "output_type": "stream",
          "name": "stdout",
          "text": [
            "                      Model     Score\n",
            "0  RandomForest+KNN5+XGBCls  0.969697\n",
            "1         RandomForest+KNN5  0.962963\n",
            "2       RandomForest+XGBCls  0.941077\n",
            "3               KNN5+XGBCls  0.947811\n"
          ]
        },
        {
          "output_type": "execute_result",
          "data": {
            "text/plain": [
              "[Text(0, 0, 'RandomForest+KNN5+XGBCls'),\n",
              " Text(0, 0, 'RandomForest+KNN5'),\n",
              " Text(0, 0, 'RandomForest+XGBCls'),\n",
              " Text(0, 0, 'KNN5+XGBCls')]"
            ]
          },
          "metadata": {},
          "execution_count": 10
        },
        {
          "output_type": "display_data",
          "data": {
            "text/plain": [
              "<Figure size 432x288 with 1 Axes>"
            ],
            "image/png": "[encoded data removed]"
          },
          "metadata": {
            "needs_background": "light"
          }
        }
      ]
    },
    {
      "cell_type": "markdown",
      "source": [
        "Stacking"
      ],
      "metadata": {
        "id": "dYQ8Bltf9Umv"
      }
    },
    {
      "cell_type": "code",
      "source": [
        "from sklearn.ensemble import StackingClassifier\n",
        "from sklearn.linear_model import LogisticRegression\n",
        "# define dataset\n",
        "# define the base models\n",
        "models = list()\n",
        "models.append(('RandomForest', RandomForestClassifier(max_depth=6, random_state=3,n_estimators=100)))\n",
        "models.append(('KNN5', KNeighborsClassifier(n_neighbors=5)))\n",
        "models.append(('XGBCls', XGBClassifier(max_depth=6, learning_rate=5e-3, n_estimators=100, silent=True, \n",
        "                  objective='reg:linear', gamma=0, min_child_weight=1, \n",
        "                  max_delta_step=0, subsample=1, colsample_bytree=1, \n",
        "                  seed=0, missing=None)))\n",
        "# define the hard voting ensemble\n",
        "#The performance using the 3 models #\n",
        "ensemble1 = StackingClassifier(estimators=models, final_estimator=LogisticRegression())\n",
        "\n",
        "with tf.device('/device:GPU:0'):\n",
        "  ensemble1.fit(X_train, Y_train)\n",
        "  \n",
        "ensemble1_score= ensemble1.score(X_test,Y_test)\n",
        "#The performance using 2 models: RandomForest and KNN5#\n",
        "models = list()\n",
        "models.append(('RandomForest', RandomForestClassifier(max_depth=6, random_state=3,n_estimators=100)))\n",
        "models.append(('KNN5', KNeighborsClassifier(n_neighbors=5)))\n",
        "\n",
        "ensemble2 = StackingClassifier(estimators=models, final_estimator=LogisticRegression())\n",
        "\n",
        "with tf.device('/device:GPU:0'):\n",
        "  ensemble2.fit(X_train, Y_train)\n",
        "ensemble2_score= ensemble2.score(X_test,Y_test)\n",
        "\n",
        "#The performance using 2 models: RandomForest and XGBCls#\n",
        "models = list()\n",
        "models.append(('RandomForest', RandomForestClassifier(max_depth=6, random_state=3,n_estimators=100)))\n",
        "models.append(('XGBCls', XGBClassifier(max_depth=6, learning_rate=5e-3, n_estimators=100, silent=True, \n",
        "                  objective='reg:linear', gamma=0, min_child_weight=1, \n",
        "                  max_delta_step=0, subsample=1, colsample_bytree=1, \n",
        "                  seed=0, missing=None)))\n",
        "ensemble3 = StackingClassifier(estimators=models, final_estimator=LogisticRegression())\n",
        "\n",
        "with tf.device('/device:GPU:0'):\n",
        "  ensemble3.fit(X_train, Y_train)\n",
        "ensemble3_score= ensemble3.score(X_test,Y_test)\n",
        "\n",
        "#The performance using 2 models: KNN5 and XGBCls #\n",
        "models = list()\n",
        "models.append(('KNN5', KNeighborsClassifier(n_neighbors=5)))\n",
        "models.append(('XGBCls', XGBClassifier(max_depth=6, learning_rate=5e-3, n_estimators=100, silent=True, \n",
        "                  objective='reg:linear', gamma=0, min_child_weight=1, \n",
        "                  max_delta_step=0, subsample=1, colsample_bytree=1, \n",
        "                  seed=0, missing=None)))\n",
        "\n",
        "ensemble4 = StackingClassifier(estimators=models, final_estimator=LogisticRegression())\n",
        "\n",
        "with tf.device('/device:GPU:0'):\n",
        "  ensemble4.fit(X_train, Y_train)\n",
        "ensemble4_score= ensemble4.score(X_test,Y_test)\n"
      ],
      "metadata": {
        "id": "6S10cUJP9XVY"
      },
      "execution_count": 11,
      "outputs": []
    },
    {
      "cell_type": "code",
      "source": [
        "from sklearn import ensemble\n",
        "\n",
        "names = []\n",
        "scores = []\n",
        "erreurs = []\n",
        "  \n",
        "classifiers_name=[\"RandomForest+KNN5+XGBCls\",\"RandomForest+KNN5\", \"RandomForest+XGBCls\",\"KNN5+XGBCls\"]\n",
        "classifiers_score=[ensemble1_score, ensemble2_score,ensemble3_score,ensemble4_score]\n",
        "\n",
        "for cls, cls_score in zip(classifiers_name,classifiers_score):\n",
        "  names.append(cls)\n",
        "  scores.append(cls_score)\n",
        "\n",
        "score_df = pd.DataFrame({'Model': names,'Score': scores})\n",
        "print(score_df)\n",
        "  \n",
        "ax  = score_df.plot.bar()\n",
        "ax.set_xticklabels(score_df['Model'], rotation=45, fontsize=15)"
      ],
      "metadata": {
        "colab": {
          "base_uri": "https://localhost:8080/",
          "height": 585
        },
        "id": "5HzrfkLD-Y2h",
        "outputId": "786a44c6-c4bf-4149-b9c4-77f3ffd6ca57"
      },
      "execution_count": 12,
      "outputs": [
        {
          "output_type": "stream",
          "name": "stdout",
          "text": [
            "                      Model     Score\n",
            "0  RandomForest+KNN5+XGBCls  0.983165\n",
            "1         RandomForest+KNN5  0.984848\n",
            "2       RandomForest+XGBCls  0.961279\n",
            "3               KNN5+XGBCls  0.983165\n"
          ]
        },
        {
          "output_type": "execute_result",
          "data": {
            "text/plain": [
              "[Text(0, 0, 'RandomForest+KNN5+XGBCls'),\n",
              " Text(0, 0, 'RandomForest+KNN5'),\n",
              " Text(0, 0, 'RandomForest+XGBCls'),\n",
              " Text(0, 0, 'KNN5+XGBCls')]"
            ]
          },
          "metadata": {},
          "execution_count": 12
        },
        {
          "output_type": "display_data",
          "data": {
            "text/plain": [
              "<Figure size 432x288 with 1 Axes>"
            ],
            "image/png": "[encoded data removed]"
          },
          "metadata": {
            "needs_background": "light"
          }
        }
      ]
    },
    {
      "cell_type": "markdown",
      "source": [
        "# Optimisation"
      ],
      "metadata": {
        "id": "WBCxPtsh-qzW"
      }
    },
    {
      "cell_type": "markdown",
      "source": [
        "Random Forest"
      ],
      "metadata": {
        "id": "RJN31wUQ_eTq"
      }
    },
    {
      "cell_type": "code",
      "source": [
        "%%time\n",
        "from sklearn.model_selection import GridSearchCV\n",
        "import itertools\n",
        "\n",
        "params = {'max_depth':[5,10,15], 'random_state':[0,1,2,3,123], 'n_estimators':[10,25,50,100,250,500,1000]}\n",
        "\n",
        "random_forest_grid = GridSearchCV(RandomForestClassifier(max_depth=5, random_state=50), param_grid=params, n_jobs=-1, cv=5, verbose=5)\n",
        "\n",
        "with tf.device('/device:GPU:0'):\n",
        "  random_forest_grid.fit(X_train,Y_train)\n",
        "\n",
        "print('Train R^2 Score : %.3f'%random_forest_grid.best_estimator_.score(X_train, Y_train))\n",
        "print('Test R^2 Score : %.3f'%random_forest_grid.best_estimator_.score(X_test, Y_test))\n",
        "print('Best R^2 Score Through Grid Search : %.3f'%random_forest_grid.best_score_)\n",
        "print('Best Parameters : ',random_forest_grid.best_params_)"
      ],
      "metadata": {
        "colab": {
          "base_uri": "https://localhost:8080/"
        },
        "id": "bGAkjNIJ-w19",
        "outputId": "3e408e4d-a483-4c4c-be30-92db7fb3a346"
      },
      "execution_count": 13,
      "outputs": [
        {
          "output_type": "stream",
          "name": "stdout",
          "text": [
            "Fitting 5 folds for each of 105 candidates, totalling 525 fits\n",
            "Train R^2 Score : 1.000\n",
            "Test R^2 Score : 0.978\n",
            "Best R^2 Score Through Grid Search : 0.976\n",
            "Best Parameters :  {'max_depth': 10, 'n_estimators': 1000, 'random_state': 123}\n",
            "CPU times: user 7.52 s, sys: 476 ms, total: 8 s\n",
            "Wall time: 5min 4s\n"
          ]
        }
      ]
    },
    {
      "cell_type": "markdown",
      "source": [
        "XGBClassifier"
      ],
      "metadata": {
        "id": "AOr9jvNu_3fv"
      }
    },
    {
      "cell_type": "code",
      "source": [
        "params = {'estimator__max_depth':[5,10,15], 'estimator__random_state':[0,1,2,3,123], 'estimator__n_estimators':[10,25,50,100,250,500,1000]}\n",
        "\n",
        "XGBClassifier_grid = GridSearchCV(XGBClassifier(max_depth=5, learning_rate=5e-2, n_estimators=100, silent=True, \n",
        "                  objective='reg:linear', gamma=0, min_child_weight=1, \n",
        "                  max_delta_step=0, subsample=1, colsample_bytree=1, \n",
        "                  seed=0, missing=None), param_grid=params, n_jobs=-1, cv=5, verbose=5)\n",
        "\n",
        "with tf.device('/device:GPU:0'):\n",
        "  XGBClassifier_grid.fit(X_train,Y_train)\n",
        "\n",
        "print('Train R^2 Score : %.3f'%XGBClassifier_grid.best_estimator_.score(X_train, Y_train))\n",
        "print('Test R^2 Score : %.3f'%XGBClassifier_grid.best_estimator_.score(X_test, Y_test))\n",
        "print('Best R^2 Score Through Grid Search : %.3f'%XGBClassifier_grid.best_score_)\n",
        "print('Best Parameters : ',XGBClassifier_grid.best_params_)"
      ],
      "metadata": {
        "colab": {
          "base_uri": "https://localhost:8080/"
        },
        "id": "a4LXCjdu_2T5",
        "outputId": "dbb36e77-3019-4a62-bc07-d8ca93a30d20"
      },
      "execution_count": 14,
      "outputs": [
        {
          "output_type": "stream",
          "name": "stdout",
          "text": [
            "Fitting 5 folds for each of 105 candidates, totalling 525 fits\n",
            "Train R^2 Score : 1.000\n",
            "Test R^2 Score : 0.946\n",
            "Best R^2 Score Through Grid Search : 0.943\n",
            "Best Parameters :  {'estimator__max_depth': 5, 'estimator__n_estimators': 10, 'estimator__random_state': 0}\n"
          ]
        }
      ]
    }
  ]
}